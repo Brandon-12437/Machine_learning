{
 "cells": [
  {
   "cell_type": "code",
   "execution_count": null,
   "id": "01e8a8d7",
   "metadata": {},
   "outputs": [],
   "source": [
    "import pandas as pd\n",
    "import numpy as np"
   ]
  },
  {
   "cell_type": "code",
   "execution_count": null,
   "id": "4a430ce1",
   "metadata": {},
   "outputs": [],
   "source": [
    "df = pd.read_csv('car_fuel_efficiency.csv', usecols=['engine_displacement', 'horsepower','vehicle_weight', 'model_year', 'fuel_efficiency_mpg'])\n",
    "df"
   ]
  },
  {
   "cell_type": "code",
   "execution_count": null,
   "id": "e1e1f4e1",
   "metadata": {},
   "outputs": [],
   "source": [
    "missing_values  =df.isnull().any()"
   ]
  },
  {
   "cell_type": "code",
   "execution_count": null,
   "id": "92479e33",
   "metadata": {},
   "outputs": [],
   "source": [
    "# median of horsepower\n",
    "df['horsepower'].median()"
   ]
  },
  {
   "cell_type": "code",
   "execution_count": null,
   "id": "3c080fa5",
   "metadata": {},
   "outputs": [],
   "source": [
    "n= len(df)\n",
    "n_val = int(0.2*n)\n",
    "n_test = int(0.2*n)\n",
    "n_train = n - (n_val + n_test)\n",
    "n_train, n_val, n_test"
   ]
  },
  {
   "cell_type": "code",
   "execution_count": null,
   "id": "e6f86de5",
   "metadata": {},
   "outputs": [],
   "source": [
    "np.random.seed(42)\n",
    "idx =np.arange(n)\n",
    "np.random.shuffle(idx)\n",
    "#shuffling the array\n",
    "np.random.seed(42) \n",
    "idx = np.arange(n)\n",
    "np.random.shuffle(idx)\n",
    "df_shuffled = df.iloc[idx]\n",
    "df_shuffled"
   ]
  },
  {
   "cell_type": "code",
   "execution_count": null,
   "id": "ff2d103e",
   "metadata": {},
   "outputs": [],
   "source": [
    "df_train=df_shuffled.iloc[idx[ :n_train]].copy()\n",
    "df_val=df_shuffled.iloc[idx[n_train:n_train+n_val]].copy()\n",
    "df_test=df_shuffled.iloc[idx[n_train+n_val:]].copy()"
   ]
  },
  {
   "cell_type": "code",
   "execution_count": null,
   "id": "9e06a528",
   "metadata": {},
   "outputs": [],
   "source": [
    "y_train = np.log1p(df_train['fuel_efficiency_mpg'].values)\n",
    "y_val = np.log1p(df_val['fuel_efficiency_mpg'].values)\n",
    "y_test = np.log1p(df_test['fuel_efficiency_mpg'].values)"
   ]
  },
  {
   "cell_type": "code",
   "execution_count": null,
   "id": "1bfae33b",
   "metadata": {},
   "outputs": [],
   "source": [
    "del df_train['fuel_efficiency_mpg']\n",
    "del df_val['fuel_efficiency_mpg']\n",
    "del df_test['fuel_efficiency_mpg']"
   ]
  },
  {
   "cell_type": "code",
   "execution_count": null,
   "id": "1e5f3369",
   "metadata": {},
   "outputs": [],
   "source": [
    "def train_linear_regression(X_train, y_train):\n",
    "    \"\"\"Train linear regression without regularization\"\"\"\n",
    "    ones = np.ones(X_train.shape[0])\n",
    "    X_train_with_bias = np.column_stack([ones, X_train])\n",
    "    \n",
    "    XTX = X_train_with_bias.T.dot(X_train_with_bias)\n",
    "    XTX_inv = np.linalg.inv(XTX)\n",
    "    w = XTX_inv.dot(X_train_with_bias.T).dot(y_train)\n",
    "    \n",
    "    return w"
   ]
  },
  {
   "cell_type": "code",
   "execution_count": null,
   "id": "10689c45",
   "metadata": {},
   "outputs": [],
   "source": [
    "def predict(X, w):\n",
    "    \"\"\"Make predictions\"\"\"\n",
    "    ones = np.ones(X.shape[0])\n",
    "    X_with_bias = np.column_stack([ones, X])\n",
    "    return X_with_bias.dot(w)"
   ]
  },
  {
   "cell_type": "code",
   "execution_count": null,
   "id": "5e94dcfd",
   "metadata": {},
   "outputs": [],
   "source": [
    "def rmse(y_true, y_pred):\n",
    "    \"\"\"Calculate RMSE\"\"\"\n",
    "    return np.sqrt(np.mean((y_true - y_pred) ** 2))"
   ]
  },
  {
   "cell_type": "code",
   "execution_count": null,
   "id": "d5105562",
   "metadata": {},
   "outputs": [],
   "source": [
    "df_train_fill_0 = df_train.fillna(0)\n",
    "df_val_fill_0 = df_val.fillna(0)\n",
    "\n",
    "w_0 = train_linear_regression(df_train_fill_0.values, y_train)\n",
    "y_pred_0 = predict(df_val_fill_0.values, w_0)\n",
    "rmse_fill_0 = rmse(y_val, y_pred_0)\n",
    "\n",
    "with_zero = round(rmse_fill_0, 2)\n",
    "with_zero"
   ]
  },
  {
   "cell_type": "code",
   "execution_count": null,
   "id": "6133f6c4",
   "metadata": {},
   "outputs": [],
   "source": [
    "missing_col = missing_values[missing_values > 0].index[0]\n",
    "mean_value = df_train[missing_col].mean()\n",
    "print(f\"Mean of '{missing_col}' in training set: {mean_value:.2f}\")\n",
    "\n",
    "df_train_fill_mean = df_train.fillna(mean_value)\n",
    "df_val_fill_mean = df_val.fillna(mean_value)\n",
    "\n",
    "w_mean = train_linear_regression(df_train_fill_mean.values, y_train)\n",
    "y_pred_mean = predict(df_val_fill_mean.values, w_mean)\n",
    "rmse_fill_mean = rmse(y_val, y_pred_mean)\n",
    "round(rmse_fill_mean, 2);"
   ]
  },
  {
   "cell_type": "code",
   "execution_count": null,
   "id": "f26123ad",
   "metadata": {},
   "outputs": [],
   "source": [
    "def train_linear_regression_reg(X_train, y_train, r=0.0):\n",
    "    \"\"\"Train linear regression with regularization\"\"\"\n",
    "    ones = np.ones(X_train.shape[0])\n",
    "    X_train_with_bias = np.column_stack([ones, X_train])\n",
    "    \n",
    "    XTX = X_train_with_bias.T.dot(X_train_with_bias)\n",
    "    reg_matrix = r * np.eye(XTX.shape[0])\n",
    "    XTX_reg = XTX + reg_matrix\n",
    "    XTX_inv = np.linalg.inv(XTX_reg)\n",
    "    w = XTX_inv.dot(X_train_with_bias.T).dot(y_train)\n",
    "    \n",
    "    return w"
   ]
  },
  {
   "cell_type": "code",
   "execution_count": null,
   "id": "90e364c7",
   "metadata": {},
   "outputs": [],
   "source": [
    "df_train_q4 = df_train.fillna(0)\n",
    "df_val_q4 = df_val.fillna(0)\n",
    "\n"
   ]
  },
  {
   "cell_type": "code",
   "execution_count": null,
   "id": "6ae32d07",
   "metadata": {},
   "outputs": [],
   "source": [
    "r_values = [0, 0.01, 0.1, 1, 5, 10, 100]\n",
    "rmse_scores = {}\n",
    "\n",
    "for r in r_values:\n",
    "    w = train_linear_regression_reg(df_train_q4.values, y_train, r=r)\n",
    "    y_pred = predict(df_val_q4.values, w)\n",
    "    rmse_val = rmse(y_val, y_pred)\n",
    "    rmse_scores[r] = round(rmse_val, 2)\n",
    "    print(f\"r = {r:6}: RMSE = {rmse_scores[r]}\")\n"
   ]
  },
  {
   "cell_type": "code",
   "execution_count": null,
   "id": "653e892c",
   "metadata": {},
   "outputs": [],
   "source": [
    "seeds = [0, 1, 2, 3, 4, 5, 6, 7, 8, 9]\n",
    "rmse_list = []\n",
    "\n",
    "for seed in seeds:\n",
    "    np.random.seed(seed)\n",
    "\n",
    "# Shuffle\n",
    "    idx = np.arange(n)\n",
    "    np.random.shuffle(idx)\n",
    "    df_shuffled_seed = df.iloc[idx].reset_index(drop=True)\n",
    "    \n",
    "    # Split\n",
    "    df_train_seed = df_shuffled_seed.iloc[:n_train].copy()\n",
    "    df_val_seed = df_shuffled_seed.iloc[n_train:n_train+n_val].copy()\n",
    "    \n",
    "    # Prepare data\n",
    "    y_train_seed = df_train_seed['fuel_efficiency_mpg'].values\n",
    "    y_val_seed = df_val_seed['fuel_efficiency_mpg'].values\n",
    "    \n",
    "    X_train_seed = df_train_seed.drop('fuel_efficiency_mpg', axis=1).fillna(0)\n",
    "    X_val_seed = df_val_seed.drop('fuel_efficiency_mpg', axis=1).fillna(0)\n",
    "    \n",
    "    # Train and evaluate\n",
    "    w = train_linear_regression(X_train_seed.values, y_train_seed)\n",
    "    y_pred = predict(X_val_seed.values, w)\n",
    "    rmse_val = rmse(y_val_seed, y_pred)\n",
    "    rmse_list.append(rmse_val)\n",
    "    print(f\"Seed {seed}: RMSE = {rmse_val:.4f}\")\n"
   ]
  },
  {
   "cell_type": "code",
   "execution_count": null,
   "id": "fd85d67b",
   "metadata": {},
   "outputs": [],
   "source": [
    "std_rmse = np.std(rmse_list)\n",
    "print(f\"Standard deviation of RMSE: {round(std_rmse, 5)}\")"
   ]
  },
  {
   "cell_type": "code",
   "execution_count": null,
   "id": "76f89eb0",
   "metadata": {},
   "outputs": [],
   "source": [
    "np.random.seed(9)\n",
    "idx = np.arange(n)\n",
    "np.random.shuffle(idx)\n",
    "df_shuffled_9 = df.iloc[idx].reset_index(drop=True)\n",
    "\n",
    "df_train_9 = df_shuffled_9.iloc[:n_train].copy()\n",
    "df_val_9 = df_shuffled_9.iloc[n_train:n_train+n_val].copy()\n",
    "df_test_9 = df_shuffled_9.iloc[n_train+n_val:].copy()\n"
   ]
  },
  {
   "cell_type": "code",
   "execution_count": null,
   "id": "be7e97bf",
   "metadata": {},
   "outputs": [],
   "source": [
    "df_train_val = pd.concat([df_train_9, df_val_9]).reset_index(drop=True)"
   ]
  },
  {
   "cell_type": "code",
   "execution_count": null,
   "id": "1505f077",
   "metadata": {},
   "outputs": [],
   "source": [
    "y_train_val = df_train_val['fuel_efficiency_mpg'].values\n",
    "y_test_9 = df_test_9['fuel_efficiency_mpg'].values\n",
    "\n",
    "X_train_val = df_train_val.drop('fuel_efficiency_mpg', axis=1).fillna(0)\n",
    "X_test_9 = df_test_9.drop('fuel_efficiency_mpg', axis=1).fillna(0)\n"
   ]
  },
  {
   "cell_type": "code",
   "execution_count": null,
   "id": "a48f853a",
   "metadata": {},
   "outputs": [],
   "source": [
    "w_final = train_linear_regression_reg(X_train_val.values, y_train_val, r=0.001)\n",
    "y_pred_test = predict(X_test_9.values, w_final)\n",
    "rmse_test = rmse(y_test_9, y_pred_test)\n",
    "print(f\"\\nRMSE on test set (r=0.001): {round(rmse_test, 5)}\")\n",
    "\n",
    "\n"
   ]
  }
 ],
 "metadata": {
  "kernelspec": {
   "display_name": "base",
   "language": "python",
   "name": "python3"
  },
  "language_info": {
   "codemirror_mode": {
    "name": "ipython",
    "version": 3
   },
   "file_extension": ".py",
   "mimetype": "text/x-python",
   "name": "python",
   "nbconvert_exporter": "python",
   "pygments_lexer": "ipython3",
   "version": "3.13.5"
  }
 },
 "nbformat": 4,
 "nbformat_minor": 5
}
